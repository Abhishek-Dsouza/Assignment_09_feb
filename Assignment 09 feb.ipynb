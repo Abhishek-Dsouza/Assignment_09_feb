{
 "cells": [
  {
   "cell_type": "markdown",
   "id": "86bbeb82-9722-452b-9dc1-b5528fdfd7d7",
   "metadata": {},
   "source": [
    "### Q1. Create a vehicle class with an init method having instance variables as name_of_vehicle, max_speed and average_of_vehicle.\n",
    "#### Answer:-"
   ]
  },
  {
   "cell_type": "code",
   "execution_count": 53,
   "id": "d47130d8-5dfd-47ef-b555-e32b0859837b",
   "metadata": {},
   "outputs": [],
   "source": [
    "class vehicle:\n",
    "    def __init__(self,name_of_vehicle,max_speed,average_of_vehicle):\n",
    "        self.name_of_vehicle = name_of_vehicle\n",
    "        self.max_speed = max_speed \n",
    "        self.average_of_vehicle = average_of_vehicle"
   ]
  },
  {
   "cell_type": "code",
   "execution_count": 54,
   "id": "d6b5c1f8-14a5-449b-ac7a-55beed34fcd1",
   "metadata": {},
   "outputs": [],
   "source": [
    "car = vehicle(\"Grand10\",220,50)\n",
    "bike = vehicle(\"Apache\",130,20)"
   ]
  },
  {
   "cell_type": "code",
   "execution_count": 55,
   "id": "d9bae581-f458-4f84-9593-b74811d9ea1f",
   "metadata": {},
   "outputs": [
    {
     "name": "stdout",
     "output_type": "stream",
     "text": [
      "Grand10\n",
      "50\n",
      "220\n"
     ]
    }
   ],
   "source": [
    "print(car.name_of_vehicle)\n",
    "print(car.average_of_vehicle)\n",
    "print(car.max_speed)"
   ]
  },
  {
   "cell_type": "markdown",
   "id": "c1d57ef1-6a16-40ab-8401-4836d29946ff",
   "metadata": {},
   "source": [
    "### Q2. Create a child class car from the vehicle class created in Que 1, which will inherit the vehicle class. Create a method named seating_capacity which takes capacity as an argument and returns the name of the vehicle and its seating capacity.\n"
   ]
  },
  {
   "cell_type": "code",
   "execution_count": 65,
   "id": "b710b762-3209-4e21-866d-3e6f57c885ee",
   "metadata": {},
   "outputs": [],
   "source": [
    "class Car(vehicle):\n",
    "    def seating_capacity(self, capacity):\n",
    "        return self.name_of_vehicle,\"has a seating capacity of\",capacity,\"persons.\"\n"
   ]
  },
  {
   "cell_type": "code",
   "execution_count": 66,
   "id": "39037410-4210-45dd-aecf-062cedb52062",
   "metadata": {},
   "outputs": [
    {
     "name": "stdout",
     "output_type": "stream",
     "text": [
      "('Toyota', 'has a seating capacity of', 5, 'persons.')\n"
     ]
    }
   ],
   "source": [
    "car = Car('Toyota', 220, 12)\n",
    "print(car.seating_capacity(5))\n"
   ]
  },
  {
   "cell_type": "markdown",
   "id": "de3b4dfc-2c3f-4a05-9128-6827b1514c3b",
   "metadata": {},
   "source": [
    "### Q3. What is multiple inheritance? Write a python code to demonstrate multiple inheritance.\n",
    "#### Answer:-"
   ]
  },
  {
   "cell_type": "markdown",
   "id": "7ed644b1-e1f1-4ddc-b7b1-4edec67976f6",
   "metadata": {},
   "source": [
    "#### Multiple inheritance is a feature in object-oriented programming languages that allows a class to inherit from more than one parent class. This means that a subclass can inherit attributes and methods from multiple parent classes, giving it the ability to combine the behaviors of those classes.\n",
    "\n"
   ]
  },
  {
   "cell_type": "code",
   "execution_count": null,
   "id": "1682c785-b0d8-4db3-a435-e43769f7cd0d",
   "metadata": {},
   "outputs": [],
   "source": [
    "class Animal:\n",
    "    def make_sound(self):\n",
    "        pass\n",
    "\n",
    "class Mammal(Animal):\n",
    "    def feed_young_with_milk(self):\n",
    "        pass\n",
    "\n",
    "class Bird(Animal):\n",
    "    def lay_eggs(self):\n",
    "        pass\n",
    "\n",
    "class Platypus(Mammal, Bird):\n",
    "    def __init__(self):\n",
    "        pass\n"
   ]
  },
  {
   "cell_type": "markdown",
   "id": "4e14b0ef-4e3b-42c5-8ff3-89c5b2b11c95",
   "metadata": {},
   "source": [
    "### Q4. What are getter and setter in python? Create a class and create a getter and a setter method in this class.\n",
    "#### Answer:-"
   ]
  },
  {
   "cell_type": "markdown",
   "id": "31829343-fc2f-492f-a093-a4d166a9a406",
   "metadata": {},
   "source": [
    "#### In Python, getter and setter methods are used to access and modify the values of instance variables in a class. Getter methods allow you to access the value of an instance variable, while setter methods allow you to modify the value of an instance variable. \n",
    "#### Example:-"
   ]
  },
  {
   "cell_type": "code",
   "execution_count": 1,
   "id": "00f8086e-1d68-4bff-aacc-704466c0c95b",
   "metadata": {},
   "outputs": [],
   "source": [
    "class Person:\n",
    "    def __init__(self, name):\n",
    "        self._name = name\n",
    "\n",
    "    def get_name(self):\n",
    "        return self._name\n",
    "\n",
    "    def set_name(self, name):\n",
    "        self._name = name\n"
   ]
  },
  {
   "cell_type": "code",
   "execution_count": 2,
   "id": "6480d96d-aff9-4043-b24c-6d5ef65a4ed8",
   "metadata": {},
   "outputs": [
    {
     "name": "stdout",
     "output_type": "stream",
     "text": [
      "Alice\n",
      "Bob\n"
     ]
    }
   ],
   "source": [
    "person = Person('Alice')\n",
    "print(person.get_name())     \n",
    "\n",
    "person.set_name('Bob')\n",
    "print(person.get_name())   "
   ]
  },
  {
   "cell_type": "markdown",
   "id": "cace042e-df11-48ac-a141-61789e2cba63",
   "metadata": {},
   "source": [
    "### Q5. What is method overriding in python? Write a python code to demonstrate method overriding.\n",
    "#### Answer:-"
   ]
  },
  {
   "cell_type": "markdown",
   "id": "4240604f-d2bf-4b1e-8637-5af2a090b20e",
   "metadata": {},
   "source": [
    "#### Method overriding is a feature of object-oriented programming that allows a subclass to provide a different implementation of a method that is already defined in its superclass. When a method is overridden, the implementation in the subclass will be used instead of the implementation in the superclass, even if the method is called on an object of the superclass.\n",
    "\n",
    "#### code to demonstrate method overriding."
   ]
  },
  {
   "cell_type": "code",
   "execution_count": 3,
   "id": "bad7c334-bdfd-478f-b6ff-b13499e51c23",
   "metadata": {},
   "outputs": [
    {
     "name": "stdout",
     "output_type": "stream",
     "text": [
      "The dog barks\n"
     ]
    }
   ],
   "source": [
    "class Animal:\n",
    "    def make_sound(self):\n",
    "        print(\"The animal makes a sound\")\n",
    "\n",
    "class Dog(Animal):\n",
    "    def make_sound(self):\n",
    "        print(\"The dog barks\")\n",
    "\n",
    "my_dog = Dog()\n",
    "\n",
    "my_dog.make_sound()  \n"
   ]
  },
  {
   "cell_type": "code",
   "execution_count": null,
   "id": "08f96004-c5d3-4b4a-97c7-6943222c5134",
   "metadata": {},
   "outputs": [],
   "source": []
  }
 ],
 "metadata": {
  "kernelspec": {
   "display_name": "Python 3 (ipykernel)",
   "language": "python",
   "name": "python3"
  },
  "language_info": {
   "codemirror_mode": {
    "name": "ipython",
    "version": 3
   },
   "file_extension": ".py",
   "mimetype": "text/x-python",
   "name": "python",
   "nbconvert_exporter": "python",
   "pygments_lexer": "ipython3",
   "version": "3.10.8"
  }
 },
 "nbformat": 4,
 "nbformat_minor": 5
}
